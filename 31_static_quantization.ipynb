{
  "nbformat": 4,
  "nbformat_minor": 0,
  "metadata": {
    "colab": {
      "name": "31_static_quantization.ipynb",
      "provenance": [],
      "collapsed_sections": [
        "hFhyA8fNpTpJ",
        "RRNg5LGiqVSc",
        "IVTnYSzRrEes",
        "tIl409b5Hh8u"
      ],
      "toc_visible": true
    },
    "kernelspec": {
      "name": "python3",
      "display_name": "Python 3"
    }
  },
  "cells": [
    {
      "cell_type": "markdown",
      "metadata": {
        "id": "PdDP_Zuhmjqt"
      },
      "source": [
        "# Static Quantization with Eager Mode in PyTorch\n",
        "\n",
        "## Introduction \n",
        "\n",
        "This tutorial shows how to do post-training static quantization, as well as illustrating\n",
        "two more advanced techniques - per-channel quantization and quantization-aware training -\n",
        "to further improve the model's accuracy. Note that quantization is currently only supported for CPUs, so we will not be utilizing GPUs / CUDA in this tutorial. \n",
        "\n",
        "By the end of this tutorial, you will see how quantization in PyTorch can result in\n",
        "significant decreases in model size while increasing speed. Furthermore, you'll see how\n",
        "to easily apply some advanced quantization techniques shown\n",
        "[here](https://arxiv.org/abs/1806.08342) so that your quantized models take much less\n",
        "of an accuracy hit than they would otherwise."
      ]
    },
    {
      "cell_type": "markdown",
      "metadata": {
        "id": "K2u7OC6lo2wP"
      },
      "source": [
        "We'll start by doing the necessary imports:"
      ]
    },
    {
      "cell_type": "code",
      "metadata": {
        "id": "Z5LJJSKQmXmQ",
        "outputId": "99b48fcd-22e5-4e3e-a6de-3a3797f74568",
        "colab": {
          "base_uri": "https://localhost:8080/"
        }
      },
      "source": [
        "import numpy as np\n",
        "import torch\n",
        "import torch.nn as nn\n",
        "import torchvision\n",
        "from torch.utils.data import DataLoader\n",
        "from torchvision import datasets\n",
        "import torchvision.transforms as transforms\n",
        "import os\n",
        "import time\n",
        "import sys\n",
        "import torch.quantization\n",
        "\n",
        "# # Setup warnings\n",
        "import warnings\n",
        "warnings.filterwarnings(\n",
        "    action='ignore',\n",
        "    category=DeprecationWarning,\n",
        "    module=r'.*'\n",
        ")\n",
        "warnings.filterwarnings(\n",
        "    action='default',\n",
        "    module=r'torch.quantization'\n",
        ")\n",
        "\n",
        "# Specify random seed for repeatable results\n",
        "torch.manual_seed(191009)"
      ],
      "execution_count": 1,
      "outputs": [
        {
          "output_type": "execute_result",
          "data": {
            "text/plain": [
              "<torch._C.Generator at 0x7fcb51c61588>"
            ]
          },
          "metadata": {
            "tags": []
          },
          "execution_count": 1
        }
      ]
    },
    {
      "cell_type": "markdown",
      "metadata": {
        "id": "hFhyA8fNpTpJ"
      },
      "source": [
        "## Setup\n",
        "\n",
        "### Model architecture\n",
        "\n",
        "We first define the `MobileNetV2` model architecture, with several notable modifications to enable quantization:\n",
        "\n",
        " - Replacing addition with `nn.quantized.FloatFunctional`\n",
        " - Insert `QuantStub` and `DeQuantStub` at the beginning and end of the network.\n",
        " - Replace ReLU6 with ReLU"
      ]
    },
    {
      "cell_type": "code",
      "metadata": {
        "id": "V6BXA-G8pDVt"
      },
      "source": [
        "from torch.quantization import QuantStub, DeQuantStub\n",
        "\n",
        "def _make_divisible(v, divisor, min_value=None):\n",
        "    \"\"\"\n",
        "    This function is taken from the original tf repo.\n",
        "    It ensures that all layers have a channel number that is divisible by 8\n",
        "    It can be seen here:\n",
        "    https://github.com/tensorflow/models/blob/master/research/slim/nets/mobilenet/mobilenet.py\n",
        "    :param v:\n",
        "    :param divisor:\n",
        "    :param min_value:\n",
        "    :return:\n",
        "    \"\"\"\n",
        "    if min_value is None:\n",
        "        min_value = divisor\n",
        "    new_v = max(min_value, int(v + divisor / 2) // divisor * divisor)\n",
        "    # Make sure that round down does not go down by more than 10%.\n",
        "    if new_v < 0.9 * v:\n",
        "        new_v += divisor\n",
        "    return new_v\n",
        "\n",
        "\n",
        "class ConvBNReLU(nn.Sequential):\n",
        "    def __init__(self, in_planes, out_planes, kernel_size=3, stride=1, groups=1):\n",
        "        padding = (kernel_size - 1) // 2\n",
        "        super(ConvBNReLU, self).__init__(\n",
        "            nn.Conv2d(in_planes, out_planes, kernel_size, stride, padding, groups=groups, bias=False),\n",
        "            nn.BatchNorm2d(out_planes, momentum=0.1),\n",
        "            # Replace with ReLU\n",
        "            nn.ReLU(inplace=False)\n",
        "        )\n",
        "\n",
        "\n",
        "class InvertedResidual(nn.Module):\n",
        "    def __init__(self, inp, oup, stride, expand_ratio):\n",
        "        super(InvertedResidual, self).__init__()\n",
        "        self.stride = stride\n",
        "        assert stride in [1, 2]\n",
        "\n",
        "        hidden_dim = int(round(inp * expand_ratio))\n",
        "        self.use_res_connect = self.stride == 1 and inp == oup\n",
        "\n",
        "        layers = []\n",
        "        if expand_ratio != 1:\n",
        "            # pw\n",
        "            layers.append(ConvBNReLU(inp, hidden_dim, kernel_size=1))\n",
        "        layers.extend([\n",
        "            # dw\n",
        "            ConvBNReLU(hidden_dim, hidden_dim, stride=stride, groups=hidden_dim),\n",
        "            # pw-linear\n",
        "            nn.Conv2d(hidden_dim, oup, 1, 1, 0, bias=False),\n",
        "            nn.BatchNorm2d(oup, momentum=0.1),\n",
        "        ])\n",
        "        self.conv = nn.Sequential(*layers)\n",
        "        # Replace torch.add with floatfunctional\n",
        "        self.skip_add = nn.quantized.FloatFunctional()\n",
        "\n",
        "    def forward(self, x):\n",
        "        if self.use_res_connect:\n",
        "            return self.skip_add.add(x, self.conv(x))\n",
        "        else:\n",
        "            return self.conv(x)"
      ],
      "execution_count": 2,
      "outputs": []
    },
    {
      "cell_type": "markdown",
      "metadata": {
        "id": "QyTqGlDWqBVE"
      },
      "source": [
        "We will now define the main class for the model:"
      ]
    },
    {
      "cell_type": "code",
      "metadata": {
        "id": "aBsGaFKVp3ey"
      },
      "source": [
        "class MobileNetV2(nn.Module):\n",
        "    def __init__(self, num_classes=1000, width_mult=1.0, inverted_residual_setting=None, round_nearest=8):\n",
        "        \"\"\"\n",
        "        MobileNet V2 main class\n",
        "        Args:\n",
        "            num_classes (int): Number of classes\n",
        "            width_mult (float): Width multiplier - adjusts number of channels in each layer by this amount\n",
        "            inverted_residual_setting: Network structure\n",
        "            round_nearest (int): Round the number of channels in each layer to be a multiple of this number\n",
        "            Set to 1 to turn off rounding\n",
        "        \"\"\"\n",
        "        super(MobileNetV2, self).__init__()\n",
        "        block = InvertedResidual\n",
        "        input_channel = 32\n",
        "        last_channel = 1280\n",
        "\n",
        "        if inverted_residual_setting is None:\n",
        "            inverted_residual_setting = [\n",
        "                # t, c, n, s\n",
        "                [1, 16, 1, 1],\n",
        "                [6, 24, 2, 2],\n",
        "                [6, 32, 3, 2],\n",
        "                [6, 64, 4, 2],\n",
        "                [6, 96, 3, 1],\n",
        "                [6, 160, 3, 2],\n",
        "                [6, 320, 1, 1],\n",
        "            ]\n",
        "\n",
        "        # only check the first element, assuming user knows t,c,n,s are required\n",
        "        if len(inverted_residual_setting) == 0 or len(inverted_residual_setting[0]) != 4:\n",
        "            raise ValueError(\"inverted_residual_setting should be non-empty \"\n",
        "                             \"or a 4-element list, got {}\".format(inverted_residual_setting))\n",
        "\n",
        "        # building first layer\n",
        "        input_channel = _make_divisible(input_channel * width_mult, round_nearest)\n",
        "        self.last_channel = _make_divisible(last_channel * max(1.0, width_mult), round_nearest)\n",
        "        features = [ConvBNReLU(3, input_channel, stride=2)]\n",
        "        # building inverted residual blocks\n",
        "        for t, c, n, s in inverted_residual_setting:\n",
        "            output_channel = _make_divisible(c * width_mult, round_nearest)\n",
        "            for i in range(n):\n",
        "                stride = s if i == 0 else 1\n",
        "                features.append(block(input_channel, output_channel, stride, expand_ratio=t))\n",
        "                input_channel = output_channel\n",
        "        # building last several layers\n",
        "        features.append(ConvBNReLU(input_channel, self.last_channel, kernel_size=1))\n",
        "        # make it nn.Sequential\n",
        "        self.features = nn.Sequential(*features)\n",
        "        self.quant = QuantStub()\n",
        "        self.dequant = DeQuantStub()\n",
        "        # building classifier\n",
        "        self.classifier = nn.Sequential(\n",
        "            nn.Dropout(0.2),\n",
        "            nn.Linear(self.last_channel, num_classes),\n",
        "        )\n",
        "\n",
        "        # weight initialization\n",
        "        for m in self.modules():\n",
        "            if isinstance(m, nn.Conv2d):\n",
        "                nn.init.kaiming_normal_(m.weight, mode='fan_out')\n",
        "                if m.bias is not None:\n",
        "                    nn.init.zeros_(m.bias)\n",
        "            elif isinstance(m, nn.BatchNorm2d):\n",
        "                nn.init.ones_(m.weight)\n",
        "                nn.init.zeros_(m.bias)\n",
        "            elif isinstance(m, nn.Linear):\n",
        "                nn.init.normal_(m.weight, 0, 0.01)\n",
        "                nn.init.zeros_(m.bias)\n",
        "\n",
        "    def forward(self, x):\n",
        "\n",
        "        x = self.quant(x)\n",
        "\n",
        "        x = self.features(x)\n",
        "        x = x.mean([2, 3])\n",
        "        x = self.classifier(x)\n",
        "        x = self.dequant(x)\n",
        "        return x\n",
        "\n",
        "    # Fuse Conv+BN and Conv+BN+Relu modules prior to quantization\n",
        "    # This operation does not change the numerics\n",
        "    def fuse_model(self):\n",
        "        for m in self.modules():\n",
        "            if type(m) == ConvBNReLU:\n",
        "                torch.quantization.fuse_modules(m, ['0', '1', '2'], inplace=True)\n",
        "            if type(m) == InvertedResidual:\n",
        "                for idx in range(len(m.conv)):\n",
        "                    if type(m.conv[idx]) == nn.Conv2d:\n",
        "                        torch.quantization.fuse_modules(m.conv, [str(idx), str(idx + 1)], inplace=True)"
      ],
      "execution_count": 3,
      "outputs": []
    },
    {
      "cell_type": "markdown",
      "metadata": {
        "id": "RRNg5LGiqVSc"
      },
      "source": [
        "### Helper functions\n",
        "\n",
        "We next define several helper functions to help with model evaluation. These mostly come from [the official PyTorch example for training on ImageNet](https://github.com/pytorch/examples/blob/master/imagenet/main.py)."
      ]
    },
    {
      "cell_type": "code",
      "metadata": {
        "id": "FhPouJ5tp-kp"
      },
      "source": [
        "class AverageMeter(object):\n",
        "    \"\"\"Computes and stores the average and current value\"\"\"\n",
        "    def __init__(self, name, fmt=':f'):\n",
        "        self.name = name\n",
        "        self.fmt = fmt\n",
        "        self.reset()\n",
        "\n",
        "    def reset(self):\n",
        "        self.val = 0\n",
        "        self.avg = 0\n",
        "        self.sum = 0\n",
        "        self.count = 0\n",
        "\n",
        "    def update(self, val, n=1):\n",
        "        self.val = val\n",
        "        self.sum += val * n\n",
        "        self.count += n\n",
        "        self.avg = self.sum / self.count\n",
        "\n",
        "    def __str__(self):\n",
        "        fmtstr = '{name} {val' + self.fmt + '} ({avg' + self.fmt + '})'\n",
        "        return fmtstr.format(**self.__dict__)\n",
        "\n",
        "\n",
        "def accuracy(output, target, topk=(1,)):\n",
        "    \"\"\"Computes the accuracy over the k top predictions for the specified values of k\"\"\"\n",
        "    with torch.no_grad():\n",
        "        maxk = max(topk)\n",
        "        batch_size = target.size(0)\n",
        "\n",
        "        _, pred = output.topk(maxk, 1, True, True)\n",
        "        pred = pred.t()\n",
        "        correct = pred.eq(target.view(1, -1).expand_as(pred))\n",
        "\n",
        "        res = []\n",
        "        for k in topk:\n",
        "            correct_k = correct[:k].reshape(-1).float().sum(0, keepdim=True)\n",
        "            res.append(correct_k.mul_(100.0 / batch_size))\n",
        "        return res\n",
        "\n",
        "\n",
        "def evaluate(model, criterion, data_loader, neval_batches):\n",
        "    model.eval()\n",
        "    top1 = AverageMeter('Acc@1', ':6.2f')\n",
        "    top5 = AverageMeter('Acc@5', ':6.2f')\n",
        "    cnt = 0\n",
        "    with torch.no_grad():\n",
        "        for image, target in data_loader:\n",
        "            output = model(image)\n",
        "            loss = criterion(output, target)\n",
        "            cnt += 1\n",
        "            acc1, acc5 = accuracy(output, target, topk=(1, 5))\n",
        "            print('.', end = '')\n",
        "            top1.update(acc1[0], image.size(0))\n",
        "            top5.update(acc5[0], image.size(0))\n",
        "            if cnt >= neval_batches:\n",
        "                 return top1, top5\n",
        "\n",
        "    return top1, top5\n",
        "\n",
        "def load_model(model_file):\n",
        "    model = MobileNetV2()\n",
        "    state_dict = torch.load(model_file)\n",
        "    model.load_state_dict(state_dict)\n",
        "    model.to('cpu')\n",
        "    return model\n",
        "\n",
        "def print_size_of_model(model):\n",
        "    torch.save(model.state_dict(), \"temp.p\")\n",
        "    print('Size (MB):', os.path.getsize(\"temp.p\")/1e6)\n",
        "    os.remove('temp.p')"
      ],
      "execution_count": 4,
      "outputs": []
    },
    {
      "cell_type": "markdown",
      "metadata": {
        "id": "IVTnYSzRrEes"
      },
      "source": [
        "###  Dataset and data loaders\n",
        "\n",
        "As our last major setup step, we define our dataloaders for our training and testing set. The dataset we are using for this tutorial contains just 1000 images from the ImageNet data, one from each class."
      ]
    },
    {
      "cell_type": "code",
      "metadata": {
        "id": "xeExLDjurC0d"
      },
      "source": [
        "! wget -nc https://s3.amazonaws.com/pytorch-tutorial-assets/imagenet_1k.zip\n",
        "! unzip -d ./data/ imagenet_1k.zip "
      ],
      "execution_count": null,
      "outputs": []
    },
    {
      "cell_type": "markdown",
      "metadata": {
        "id": "o-bsAZYy2tU5"
      },
      "source": [
        "With the data downloaded, we show functions below that define dataloaders we'll use to read in this data. These functions mostly come from [the official example for PyTorch Object detection training](https://github.com/pytorch/vision/blob/master/references/detection/train.py)."
      ]
    },
    {
      "cell_type": "code",
      "metadata": {
        "id": "-o9MimgsusQq"
      },
      "source": [
        "def prepare_data_loaders(data_path):\n",
        "\n",
        "    traindir = os.path.join(data_path, 'train')\n",
        "    valdir = os.path.join(data_path, 'val')\n",
        "    normalize = transforms.Normalize(mean=[0.485, 0.456, 0.406],\n",
        "                                     std=[0.229, 0.224, 0.225])\n",
        "\n",
        "    dataset = torchvision.datasets.ImageFolder(\n",
        "        traindir,\n",
        "        transforms.Compose([\n",
        "            transforms.RandomResizedCrop(224),\n",
        "            transforms.RandomHorizontalFlip(),\n",
        "            transforms.ToTensor(),\n",
        "            normalize,\n",
        "        ]))\n",
        "\n",
        "    dataset_test = torchvision.datasets.ImageFolder(\n",
        "        valdir,\n",
        "        transforms.Compose([\n",
        "            transforms.Resize(256),\n",
        "            transforms.CenterCrop(224),\n",
        "            transforms.ToTensor(),\n",
        "            normalize,\n",
        "        ]))\n",
        "\n",
        "    train_sampler = torch.utils.data.RandomSampler(dataset)\n",
        "    test_sampler = torch.utils.data.SequentialSampler(dataset_test)\n",
        "\n",
        "    data_loader = torch.utils.data.DataLoader(\n",
        "        dataset, batch_size=train_batch_size,\n",
        "        sampler=train_sampler)\n",
        "\n",
        "    data_loader_test = torch.utils.data.DataLoader(\n",
        "        dataset_test, batch_size=eval_batch_size,\n",
        "        sampler=test_sampler)\n",
        "\n",
        "    return data_loader, data_loader_test"
      ],
      "execution_count": 6,
      "outputs": []
    },
    {
      "cell_type": "markdown",
      "metadata": {
        "id": "u_n3px_d3N6_"
      },
      "source": [
        " Next, we'll load in the pre-trained MobileNetV2 model:"
      ]
    },
    {
      "cell_type": "code",
      "metadata": {
        "id": "JGYXQ3_f3NJS",
        "outputId": "8bf75e1e-85d8-49f9-f354-566451511ce8",
        "colab": {
          "base_uri": "https://localhost:8080/"
        }
      },
      "source": [
        "! wget -nc -O mobilenet_pretrained_float.pth https://download.pytorch.org/models/mobilenet_v2-b0353104.pth"
      ],
      "execution_count": 11,
      "outputs": [
        {
          "output_type": "stream",
          "text": [
            "File ‘mobilenet_pretrained_float.pth’ already there; not retrieving.\n"
          ],
          "name": "stdout"
        }
      ]
    },
    {
      "cell_type": "code",
      "metadata": {
        "id": "ugwN8GYM_2Fy"
      },
      "source": [
        "data_path = './data/imagenet_1k'\n",
        "saved_model_dir = './'\n",
        "float_model_file = 'mobilenet_pretrained_float.pth'\n",
        "scripted_float_model_file = 'mobilenet_quantization_scripted.pth'\n",
        "scripted_quantized_model_file = 'mobilenet_quantization_scripted_quantized.pth'\n",
        "\n",
        "train_batch_size = 30\n",
        "eval_batch_size = 30\n",
        "\n",
        "data_loader, data_loader_test = prepare_data_loaders(data_path)\n",
        "criterion = nn.CrossEntropyLoss()\n",
        "float_model = load_model(saved_model_dir + float_model_file).to('cpu')"
      ],
      "execution_count": 12,
      "outputs": []
    },
    {
      "cell_type": "markdown",
      "metadata": {
        "id": "g5F_xTxzHIvb"
      },
      "source": [
        "Next, we'll \"fuse modules\"; this can both make the model faster by saving on memory access while also improving numerical accuracy. While this can be used with any model, this is especially common with quantized models.\n"
      ]
    },
    {
      "cell_type": "code",
      "metadata": {
        "id": "ORN48aInHEV3",
        "outputId": "85c97eba-bdd5-4bfd-c860-d590bef2bc52",
        "colab": {
          "base_uri": "https://localhost:8080/"
        }
      },
      "source": [
        "print('\\n Inverted Residual Block: Before fusion \\n\\n', float_model.features[1].conv)\n",
        "float_model.eval()\n",
        "\n",
        "# Fuses modules\n",
        "float_model.fuse_model()\n",
        "\n",
        "# Note fusion of Conv+BN+Relu and Conv+Relu\n",
        "print('\\n Inverted Residual Block: After fusion\\n\\n',float_model.features[1].conv)"
      ],
      "execution_count": 13,
      "outputs": [
        {
          "output_type": "stream",
          "text": [
            "\n",
            " Inverted Residual Block: Before fusion \n",
            "\n",
            " Sequential(\n",
            "  (0): ConvBNReLU(\n",
            "    (0): Conv2d(32, 32, kernel_size=(3, 3), stride=(1, 1), padding=(1, 1), groups=32, bias=False)\n",
            "    (1): BatchNorm2d(32, eps=1e-05, momentum=0.1, affine=True, track_running_stats=True)\n",
            "    (2): ReLU()\n",
            "  )\n",
            "  (1): Conv2d(32, 16, kernel_size=(1, 1), stride=(1, 1), bias=False)\n",
            "  (2): BatchNorm2d(16, eps=1e-05, momentum=0.1, affine=True, track_running_stats=True)\n",
            ")\n",
            "\n",
            " Inverted Residual Block: After fusion\n",
            "\n",
            " Sequential(\n",
            "  (0): ConvBNReLU(\n",
            "    (0): ConvReLU2d(\n",
            "      (0): Conv2d(32, 32, kernel_size=(3, 3), stride=(1, 1), padding=(1, 1), groups=32)\n",
            "      (1): ReLU()\n",
            "    )\n",
            "    (1): Identity()\n",
            "    (2): Identity()\n",
            "  )\n",
            "  (1): Conv2d(32, 16, kernel_size=(1, 1), stride=(1, 1))\n",
            "  (2): Identity()\n",
            ")\n"
          ],
          "name": "stdout"
        }
      ]
    },
    {
      "cell_type": "markdown",
      "metadata": {
        "id": "9kiqHewgHUat"
      },
      "source": [
        "Finally to get a \"baseline\" accuracy, let's see the accuracy of our un-quantized model with fused modules:"
      ]
    },
    {
      "cell_type": "code",
      "metadata": {
        "id": "cCXH1GAGHPA3",
        "outputId": "88eee987-2051-455c-d50d-eb66b90b5f4c",
        "colab": {
          "base_uri": "https://localhost:8080/"
        }
      },
      "source": [
        "num_eval_batches = 10\n",
        "\n",
        "print(\"Size of baseline model\")\n",
        "print_size_of_model(float_model)\n",
        "\n",
        "top1, top5 = evaluate(float_model, criterion, data_loader_test, neval_batches=num_eval_batches)\n",
        "print('Evaluation accuracy on %d images, %2.2f'%(num_eval_batches * eval_batch_size, top1.avg))\n",
        "torch.jit.save(torch.jit.script(float_model), saved_model_dir + scripted_float_model_file)"
      ],
      "execution_count": 14,
      "outputs": [
        {
          "output_type": "stream",
          "text": [
            "Size of baseline model\n",
            "Size (MB): 13.998381\n",
            "..........Evaluation accuracy on 300 images, 77.67\n"
          ],
          "name": "stdout"
        }
      ]
    },
    {
      "cell_type": "markdown",
      "metadata": {
        "id": "lcUIVFZXHl43"
      },
      "source": [
        "We see approximately 77.67% accuracy on 300 images, a solid baseline for ImageNet, especially considering our model is around 14.0 MB."
      ]
    },
    {
      "cell_type": "markdown",
      "metadata": {
        "id": "tIl409b5Hh8u"
      },
      "source": [
        "## Post-training static quantization\n",
        "\n",
        "Post-training static quantization involves not just converting the weights from float to int, as in dynamic quantization, but also performing the additional step of first feeding batches of data through the network and computing the resulting distributions of the different activations (specifically, this is done by inserting `observer` modules at different points that record this data).\n",
        "\n",
        "These distributions are then used to determine how the specifically the different activations should be quantized at inference time (a simple technique would be to simply divide the entire range of activations into 256 levels, but we support more sophisticated methods as well). Importantly, this additional step allows us to pass quantized values between operations instead of converting these values to floats - and then back to ints - between every operation, resulting in a significant speed-up."
      ]
    },
    {
      "cell_type": "code",
      "metadata": {
        "id": "9yPShvqiHZDr",
        "outputId": "875ae706-9491-4c80-f638-99627b62f8f6",
        "colab": {
          "base_uri": "https://localhost:8080/"
        }
      },
      "source": [
        "num_calibration_batches = 10\n",
        "\n",
        "myModel = load_model(saved_model_dir + float_model_file).to('cpu')\n",
        "myModel.eval()\n",
        "\n",
        "# Fuse Conv, bn and relu\n",
        "myModel.fuse_model()\n",
        "\n",
        "# Specify quantization configuration\n",
        "# Start with simple min/max range estimation and per-tensor quantization of weights\n",
        "myModel.qconfig = torch.quantization.default_qconfig\n",
        "print(myModel.qconfig)\n",
        "torch.quantization.prepare(myModel, inplace=True)"
      ],
      "execution_count": 15,
      "outputs": [
        {
          "output_type": "stream",
          "text": [
            "QConfig(activation=functools.partial(<class 'torch.quantization.observer.MinMaxObserver'>, reduce_range=True), weight=functools.partial(<class 'torch.quantization.observer.MinMaxObserver'>, dtype=torch.qint8, qscheme=torch.per_tensor_symmetric))\n"
          ],
          "name": "stdout"
        },
        {
          "output_type": "stream",
          "text": [
            "/usr/local/lib/python3.6/dist-packages/torch/quantization/observer.py:121: UserWarning: Please use quant_min and quant_max to specify the range for observers.                     reduce_range will be deprecated in a future release of PyTorch.\n",
            "  reduce_range will be deprecated in a future release of PyTorch.\"\n"
          ],
          "name": "stderr"
        },
        {
          "output_type": "execute_result",
          "data": {
            "text/plain": [
              "MobileNetV2(\n",
              "  (features): Sequential(\n",
              "    (0): ConvBNReLU(\n",
              "      (0): ConvReLU2d(\n",
              "        (0): Conv2d(\n",
              "          3, 32, kernel_size=(3, 3), stride=(2, 2), padding=(1, 1)\n",
              "          (activation_post_process): MinMaxObserver(min_val=inf, max_val=-inf)\n",
              "        )\n",
              "        (1): ReLU(\n",
              "          (activation_post_process): MinMaxObserver(min_val=inf, max_val=-inf)\n",
              "        )\n",
              "      )\n",
              "      (1): Identity()\n",
              "      (2): Identity()\n",
              "    )\n",
              "    (1): InvertedResidual(\n",
              "      (conv): Sequential(\n",
              "        (0): ConvBNReLU(\n",
              "          (0): ConvReLU2d(\n",
              "            (0): Conv2d(\n",
              "              32, 32, kernel_size=(3, 3), stride=(1, 1), padding=(1, 1), groups=32\n",
              "              (activation_post_process): MinMaxObserver(min_val=inf, max_val=-inf)\n",
              "            )\n",
              "            (1): ReLU(\n",
              "              (activation_post_process): MinMaxObserver(min_val=inf, max_val=-inf)\n",
              "            )\n",
              "          )\n",
              "          (1): Identity()\n",
              "          (2): Identity()\n",
              "        )\n",
              "        (1): Conv2d(\n",
              "          32, 16, kernel_size=(1, 1), stride=(1, 1)\n",
              "          (activation_post_process): MinMaxObserver(min_val=inf, max_val=-inf)\n",
              "        )\n",
              "        (2): Identity()\n",
              "      )\n",
              "      (skip_add): FloatFunctional(\n",
              "        (activation_post_process): MinMaxObserver(min_val=inf, max_val=-inf)\n",
              "      )\n",
              "    )\n",
              "    (2): InvertedResidual(\n",
              "      (conv): Sequential(\n",
              "        (0): ConvBNReLU(\n",
              "          (0): ConvReLU2d(\n",
              "            (0): Conv2d(\n",
              "              16, 96, kernel_size=(1, 1), stride=(1, 1)\n",
              "              (activation_post_process): MinMaxObserver(min_val=inf, max_val=-inf)\n",
              "            )\n",
              "            (1): ReLU(\n",
              "              (activation_post_process): MinMaxObserver(min_val=inf, max_val=-inf)\n",
              "            )\n",
              "          )\n",
              "          (1): Identity()\n",
              "          (2): Identity()\n",
              "        )\n",
              "        (1): ConvBNReLU(\n",
              "          (0): ConvReLU2d(\n",
              "            (0): Conv2d(\n",
              "              96, 96, kernel_size=(3, 3), stride=(2, 2), padding=(1, 1), groups=96\n",
              "              (activation_post_process): MinMaxObserver(min_val=inf, max_val=-inf)\n",
              "            )\n",
              "            (1): ReLU(\n",
              "              (activation_post_process): MinMaxObserver(min_val=inf, max_val=-inf)\n",
              "            )\n",
              "          )\n",
              "          (1): Identity()\n",
              "          (2): Identity()\n",
              "        )\n",
              "        (2): Conv2d(\n",
              "          96, 24, kernel_size=(1, 1), stride=(1, 1)\n",
              "          (activation_post_process): MinMaxObserver(min_val=inf, max_val=-inf)\n",
              "        )\n",
              "        (3): Identity()\n",
              "      )\n",
              "      (skip_add): FloatFunctional(\n",
              "        (activation_post_process): MinMaxObserver(min_val=inf, max_val=-inf)\n",
              "      )\n",
              "    )\n",
              "    (3): InvertedResidual(\n",
              "      (conv): Sequential(\n",
              "        (0): ConvBNReLU(\n",
              "          (0): ConvReLU2d(\n",
              "            (0): Conv2d(\n",
              "              24, 144, kernel_size=(1, 1), stride=(1, 1)\n",
              "              (activation_post_process): MinMaxObserver(min_val=inf, max_val=-inf)\n",
              "            )\n",
              "            (1): ReLU(\n",
              "              (activation_post_process): MinMaxObserver(min_val=inf, max_val=-inf)\n",
              "            )\n",
              "          )\n",
              "          (1): Identity()\n",
              "          (2): Identity()\n",
              "        )\n",
              "        (1): ConvBNReLU(\n",
              "          (0): ConvReLU2d(\n",
              "            (0): Conv2d(\n",
              "              144, 144, kernel_size=(3, 3), stride=(1, 1), padding=(1, 1), groups=144\n",
              "              (activation_post_process): MinMaxObserver(min_val=inf, max_val=-inf)\n",
              "            )\n",
              "            (1): ReLU(\n",
              "              (activation_post_process): MinMaxObserver(min_val=inf, max_val=-inf)\n",
              "            )\n",
              "          )\n",
              "          (1): Identity()\n",
              "          (2): Identity()\n",
              "        )\n",
              "        (2): Conv2d(\n",
              "          144, 24, kernel_size=(1, 1), stride=(1, 1)\n",
              "          (activation_post_process): MinMaxObserver(min_val=inf, max_val=-inf)\n",
              "        )\n",
              "        (3): Identity()\n",
              "      )\n",
              "      (skip_add): FloatFunctional(\n",
              "        (activation_post_process): MinMaxObserver(min_val=inf, max_val=-inf)\n",
              "      )\n",
              "    )\n",
              "    (4): InvertedResidual(\n",
              "      (conv): Sequential(\n",
              "        (0): ConvBNReLU(\n",
              "          (0): ConvReLU2d(\n",
              "            (0): Conv2d(\n",
              "              24, 144, kernel_size=(1, 1), stride=(1, 1)\n",
              "              (activation_post_process): MinMaxObserver(min_val=inf, max_val=-inf)\n",
              "            )\n",
              "            (1): ReLU(\n",
              "              (activation_post_process): MinMaxObserver(min_val=inf, max_val=-inf)\n",
              "            )\n",
              "          )\n",
              "          (1): Identity()\n",
              "          (2): Identity()\n",
              "        )\n",
              "        (1): ConvBNReLU(\n",
              "          (0): ConvReLU2d(\n",
              "            (0): Conv2d(\n",
              "              144, 144, kernel_size=(3, 3), stride=(2, 2), padding=(1, 1), groups=144\n",
              "              (activation_post_process): MinMaxObserver(min_val=inf, max_val=-inf)\n",
              "            )\n",
              "            (1): ReLU(\n",
              "              (activation_post_process): MinMaxObserver(min_val=inf, max_val=-inf)\n",
              "            )\n",
              "          )\n",
              "          (1): Identity()\n",
              "          (2): Identity()\n",
              "        )\n",
              "        (2): Conv2d(\n",
              "          144, 32, kernel_size=(1, 1), stride=(1, 1)\n",
              "          (activation_post_process): MinMaxObserver(min_val=inf, max_val=-inf)\n",
              "        )\n",
              "        (3): Identity()\n",
              "      )\n",
              "      (skip_add): FloatFunctional(\n",
              "        (activation_post_process): MinMaxObserver(min_val=inf, max_val=-inf)\n",
              "      )\n",
              "    )\n",
              "    (5): InvertedResidual(\n",
              "      (conv): Sequential(\n",
              "        (0): ConvBNReLU(\n",
              "          (0): ConvReLU2d(\n",
              "            (0): Conv2d(\n",
              "              32, 192, kernel_size=(1, 1), stride=(1, 1)\n",
              "              (activation_post_process): MinMaxObserver(min_val=inf, max_val=-inf)\n",
              "            )\n",
              "            (1): ReLU(\n",
              "              (activation_post_process): MinMaxObserver(min_val=inf, max_val=-inf)\n",
              "            )\n",
              "          )\n",
              "          (1): Identity()\n",
              "          (2): Identity()\n",
              "        )\n",
              "        (1): ConvBNReLU(\n",
              "          (0): ConvReLU2d(\n",
              "            (0): Conv2d(\n",
              "              192, 192, kernel_size=(3, 3), stride=(1, 1), padding=(1, 1), groups=192\n",
              "              (activation_post_process): MinMaxObserver(min_val=inf, max_val=-inf)\n",
              "            )\n",
              "            (1): ReLU(\n",
              "              (activation_post_process): MinMaxObserver(min_val=inf, max_val=-inf)\n",
              "            )\n",
              "          )\n",
              "          (1): Identity()\n",
              "          (2): Identity()\n",
              "        )\n",
              "        (2): Conv2d(\n",
              "          192, 32, kernel_size=(1, 1), stride=(1, 1)\n",
              "          (activation_post_process): MinMaxObserver(min_val=inf, max_val=-inf)\n",
              "        )\n",
              "        (3): Identity()\n",
              "      )\n",
              "      (skip_add): FloatFunctional(\n",
              "        (activation_post_process): MinMaxObserver(min_val=inf, max_val=-inf)\n",
              "      )\n",
              "    )\n",
              "    (6): InvertedResidual(\n",
              "      (conv): Sequential(\n",
              "        (0): ConvBNReLU(\n",
              "          (0): ConvReLU2d(\n",
              "            (0): Conv2d(\n",
              "              32, 192, kernel_size=(1, 1), stride=(1, 1)\n",
              "              (activation_post_process): MinMaxObserver(min_val=inf, max_val=-inf)\n",
              "            )\n",
              "            (1): ReLU(\n",
              "              (activation_post_process): MinMaxObserver(min_val=inf, max_val=-inf)\n",
              "            )\n",
              "          )\n",
              "          (1): Identity()\n",
              "          (2): Identity()\n",
              "        )\n",
              "        (1): ConvBNReLU(\n",
              "          (0): ConvReLU2d(\n",
              "            (0): Conv2d(\n",
              "              192, 192, kernel_size=(3, 3), stride=(1, 1), padding=(1, 1), groups=192\n",
              "              (activation_post_process): MinMaxObserver(min_val=inf, max_val=-inf)\n",
              "            )\n",
              "            (1): ReLU(\n",
              "              (activation_post_process): MinMaxObserver(min_val=inf, max_val=-inf)\n",
              "            )\n",
              "          )\n",
              "          (1): Identity()\n",
              "          (2): Identity()\n",
              "        )\n",
              "        (2): Conv2d(\n",
              "          192, 32, kernel_size=(1, 1), stride=(1, 1)\n",
              "          (activation_post_process): MinMaxObserver(min_val=inf, max_val=-inf)\n",
              "        )\n",
              "        (3): Identity()\n",
              "      )\n",
              "      (skip_add): FloatFunctional(\n",
              "        (activation_post_process): MinMaxObserver(min_val=inf, max_val=-inf)\n",
              "      )\n",
              "    )\n",
              "    (7): InvertedResidual(\n",
              "      (conv): Sequential(\n",
              "        (0): ConvBNReLU(\n",
              "          (0): ConvReLU2d(\n",
              "            (0): Conv2d(\n",
              "              32, 192, kernel_size=(1, 1), stride=(1, 1)\n",
              "              (activation_post_process): MinMaxObserver(min_val=inf, max_val=-inf)\n",
              "            )\n",
              "            (1): ReLU(\n",
              "              (activation_post_process): MinMaxObserver(min_val=inf, max_val=-inf)\n",
              "            )\n",
              "          )\n",
              "          (1): Identity()\n",
              "          (2): Identity()\n",
              "        )\n",
              "        (1): ConvBNReLU(\n",
              "          (0): ConvReLU2d(\n",
              "            (0): Conv2d(\n",
              "              192, 192, kernel_size=(3, 3), stride=(2, 2), padding=(1, 1), groups=192\n",
              "              (activation_post_process): MinMaxObserver(min_val=inf, max_val=-inf)\n",
              "            )\n",
              "            (1): ReLU(\n",
              "              (activation_post_process): MinMaxObserver(min_val=inf, max_val=-inf)\n",
              "            )\n",
              "          )\n",
              "          (1): Identity()\n",
              "          (2): Identity()\n",
              "        )\n",
              "        (2): Conv2d(\n",
              "          192, 64, kernel_size=(1, 1), stride=(1, 1)\n",
              "          (activation_post_process): MinMaxObserver(min_val=inf, max_val=-inf)\n",
              "        )\n",
              "        (3): Identity()\n",
              "      )\n",
              "      (skip_add): FloatFunctional(\n",
              "        (activation_post_process): MinMaxObserver(min_val=inf, max_val=-inf)\n",
              "      )\n",
              "    )\n",
              "    (8): InvertedResidual(\n",
              "      (conv): Sequential(\n",
              "        (0): ConvBNReLU(\n",
              "          (0): ConvReLU2d(\n",
              "            (0): Conv2d(\n",
              "              64, 384, kernel_size=(1, 1), stride=(1, 1)\n",
              "              (activation_post_process): MinMaxObserver(min_val=inf, max_val=-inf)\n",
              "            )\n",
              "            (1): ReLU(\n",
              "              (activation_post_process): MinMaxObserver(min_val=inf, max_val=-inf)\n",
              "            )\n",
              "          )\n",
              "          (1): Identity()\n",
              "          (2): Identity()\n",
              "        )\n",
              "        (1): ConvBNReLU(\n",
              "          (0): ConvReLU2d(\n",
              "            (0): Conv2d(\n",
              "              384, 384, kernel_size=(3, 3), stride=(1, 1), padding=(1, 1), groups=384\n",
              "              (activation_post_process): MinMaxObserver(min_val=inf, max_val=-inf)\n",
              "            )\n",
              "            (1): ReLU(\n",
              "              (activation_post_process): MinMaxObserver(min_val=inf, max_val=-inf)\n",
              "            )\n",
              "          )\n",
              "          (1): Identity()\n",
              "          (2): Identity()\n",
              "        )\n",
              "        (2): Conv2d(\n",
              "          384, 64, kernel_size=(1, 1), stride=(1, 1)\n",
              "          (activation_post_process): MinMaxObserver(min_val=inf, max_val=-inf)\n",
              "        )\n",
              "        (3): Identity()\n",
              "      )\n",
              "      (skip_add): FloatFunctional(\n",
              "        (activation_post_process): MinMaxObserver(min_val=inf, max_val=-inf)\n",
              "      )\n",
              "    )\n",
              "    (9): InvertedResidual(\n",
              "      (conv): Sequential(\n",
              "        (0): ConvBNReLU(\n",
              "          (0): ConvReLU2d(\n",
              "            (0): Conv2d(\n",
              "              64, 384, kernel_size=(1, 1), stride=(1, 1)\n",
              "              (activation_post_process): MinMaxObserver(min_val=inf, max_val=-inf)\n",
              "            )\n",
              "            (1): ReLU(\n",
              "              (activation_post_process): MinMaxObserver(min_val=inf, max_val=-inf)\n",
              "            )\n",
              "          )\n",
              "          (1): Identity()\n",
              "          (2): Identity()\n",
              "        )\n",
              "        (1): ConvBNReLU(\n",
              "          (0): ConvReLU2d(\n",
              "            (0): Conv2d(\n",
              "              384, 384, kernel_size=(3, 3), stride=(1, 1), padding=(1, 1), groups=384\n",
              "              (activation_post_process): MinMaxObserver(min_val=inf, max_val=-inf)\n",
              "            )\n",
              "            (1): ReLU(\n",
              "              (activation_post_process): MinMaxObserver(min_val=inf, max_val=-inf)\n",
              "            )\n",
              "          )\n",
              "          (1): Identity()\n",
              "          (2): Identity()\n",
              "        )\n",
              "        (2): Conv2d(\n",
              "          384, 64, kernel_size=(1, 1), stride=(1, 1)\n",
              "          (activation_post_process): MinMaxObserver(min_val=inf, max_val=-inf)\n",
              "        )\n",
              "        (3): Identity()\n",
              "      )\n",
              "      (skip_add): FloatFunctional(\n",
              "        (activation_post_process): MinMaxObserver(min_val=inf, max_val=-inf)\n",
              "      )\n",
              "    )\n",
              "    (10): InvertedResidual(\n",
              "      (conv): Sequential(\n",
              "        (0): ConvBNReLU(\n",
              "          (0): ConvReLU2d(\n",
              "            (0): Conv2d(\n",
              "              64, 384, kernel_size=(1, 1), stride=(1, 1)\n",
              "              (activation_post_process): MinMaxObserver(min_val=inf, max_val=-inf)\n",
              "            )\n",
              "            (1): ReLU(\n",
              "              (activation_post_process): MinMaxObserver(min_val=inf, max_val=-inf)\n",
              "            )\n",
              "          )\n",
              "          (1): Identity()\n",
              "          (2): Identity()\n",
              "        )\n",
              "        (1): ConvBNReLU(\n",
              "          (0): ConvReLU2d(\n",
              "            (0): Conv2d(\n",
              "              384, 384, kernel_size=(3, 3), stride=(1, 1), padding=(1, 1), groups=384\n",
              "              (activation_post_process): MinMaxObserver(min_val=inf, max_val=-inf)\n",
              "            )\n",
              "            (1): ReLU(\n",
              "              (activation_post_process): MinMaxObserver(min_val=inf, max_val=-inf)\n",
              "            )\n",
              "          )\n",
              "          (1): Identity()\n",
              "          (2): Identity()\n",
              "        )\n",
              "        (2): Conv2d(\n",
              "          384, 64, kernel_size=(1, 1), stride=(1, 1)\n",
              "          (activation_post_process): MinMaxObserver(min_val=inf, max_val=-inf)\n",
              "        )\n",
              "        (3): Identity()\n",
              "      )\n",
              "      (skip_add): FloatFunctional(\n",
              "        (activation_post_process): MinMaxObserver(min_val=inf, max_val=-inf)\n",
              "      )\n",
              "    )\n",
              "    (11): InvertedResidual(\n",
              "      (conv): Sequential(\n",
              "        (0): ConvBNReLU(\n",
              "          (0): ConvReLU2d(\n",
              "            (0): Conv2d(\n",
              "              64, 384, kernel_size=(1, 1), stride=(1, 1)\n",
              "              (activation_post_process): MinMaxObserver(min_val=inf, max_val=-inf)\n",
              "            )\n",
              "            (1): ReLU(\n",
              "              (activation_post_process): MinMaxObserver(min_val=inf, max_val=-inf)\n",
              "            )\n",
              "          )\n",
              "          (1): Identity()\n",
              "          (2): Identity()\n",
              "        )\n",
              "        (1): ConvBNReLU(\n",
              "          (0): ConvReLU2d(\n",
              "            (0): Conv2d(\n",
              "              384, 384, kernel_size=(3, 3), stride=(1, 1), padding=(1, 1), groups=384\n",
              "              (activation_post_process): MinMaxObserver(min_val=inf, max_val=-inf)\n",
              "            )\n",
              "            (1): ReLU(\n",
              "              (activation_post_process): MinMaxObserver(min_val=inf, max_val=-inf)\n",
              "            )\n",
              "          )\n",
              "          (1): Identity()\n",
              "          (2): Identity()\n",
              "        )\n",
              "        (2): Conv2d(\n",
              "          384, 96, kernel_size=(1, 1), stride=(1, 1)\n",
              "          (activation_post_process): MinMaxObserver(min_val=inf, max_val=-inf)\n",
              "        )\n",
              "        (3): Identity()\n",
              "      )\n",
              "      (skip_add): FloatFunctional(\n",
              "        (activation_post_process): MinMaxObserver(min_val=inf, max_val=-inf)\n",
              "      )\n",
              "    )\n",
              "    (12): InvertedResidual(\n",
              "      (conv): Sequential(\n",
              "        (0): ConvBNReLU(\n",
              "          (0): ConvReLU2d(\n",
              "            (0): Conv2d(\n",
              "              96, 576, kernel_size=(1, 1), stride=(1, 1)\n",
              "              (activation_post_process): MinMaxObserver(min_val=inf, max_val=-inf)\n",
              "            )\n",
              "            (1): ReLU(\n",
              "              (activation_post_process): MinMaxObserver(min_val=inf, max_val=-inf)\n",
              "            )\n",
              "          )\n",
              "          (1): Identity()\n",
              "          (2): Identity()\n",
              "        )\n",
              "        (1): ConvBNReLU(\n",
              "          (0): ConvReLU2d(\n",
              "            (0): Conv2d(\n",
              "              576, 576, kernel_size=(3, 3), stride=(1, 1), padding=(1, 1), groups=576\n",
              "              (activation_post_process): MinMaxObserver(min_val=inf, max_val=-inf)\n",
              "            )\n",
              "            (1): ReLU(\n",
              "              (activation_post_process): MinMaxObserver(min_val=inf, max_val=-inf)\n",
              "            )\n",
              "          )\n",
              "          (1): Identity()\n",
              "          (2): Identity()\n",
              "        )\n",
              "        (2): Conv2d(\n",
              "          576, 96, kernel_size=(1, 1), stride=(1, 1)\n",
              "          (activation_post_process): MinMaxObserver(min_val=inf, max_val=-inf)\n",
              "        )\n",
              "        (3): Identity()\n",
              "      )\n",
              "      (skip_add): FloatFunctional(\n",
              "        (activation_post_process): MinMaxObserver(min_val=inf, max_val=-inf)\n",
              "      )\n",
              "    )\n",
              "    (13): InvertedResidual(\n",
              "      (conv): Sequential(\n",
              "        (0): ConvBNReLU(\n",
              "          (0): ConvReLU2d(\n",
              "            (0): Conv2d(\n",
              "              96, 576, kernel_size=(1, 1), stride=(1, 1)\n",
              "              (activation_post_process): MinMaxObserver(min_val=inf, max_val=-inf)\n",
              "            )\n",
              "            (1): ReLU(\n",
              "              (activation_post_process): MinMaxObserver(min_val=inf, max_val=-inf)\n",
              "            )\n",
              "          )\n",
              "          (1): Identity()\n",
              "          (2): Identity()\n",
              "        )\n",
              "        (1): ConvBNReLU(\n",
              "          (0): ConvReLU2d(\n",
              "            (0): Conv2d(\n",
              "              576, 576, kernel_size=(3, 3), stride=(1, 1), padding=(1, 1), groups=576\n",
              "              (activation_post_process): MinMaxObserver(min_val=inf, max_val=-inf)\n",
              "            )\n",
              "            (1): ReLU(\n",
              "              (activation_post_process): MinMaxObserver(min_val=inf, max_val=-inf)\n",
              "            )\n",
              "          )\n",
              "          (1): Identity()\n",
              "          (2): Identity()\n",
              "        )\n",
              "        (2): Conv2d(\n",
              "          576, 96, kernel_size=(1, 1), stride=(1, 1)\n",
              "          (activation_post_process): MinMaxObserver(min_val=inf, max_val=-inf)\n",
              "        )\n",
              "        (3): Identity()\n",
              "      )\n",
              "      (skip_add): FloatFunctional(\n",
              "        (activation_post_process): MinMaxObserver(min_val=inf, max_val=-inf)\n",
              "      )\n",
              "    )\n",
              "    (14): InvertedResidual(\n",
              "      (conv): Sequential(\n",
              "        (0): ConvBNReLU(\n",
              "          (0): ConvReLU2d(\n",
              "            (0): Conv2d(\n",
              "              96, 576, kernel_size=(1, 1), stride=(1, 1)\n",
              "              (activation_post_process): MinMaxObserver(min_val=inf, max_val=-inf)\n",
              "            )\n",
              "            (1): ReLU(\n",
              "              (activation_post_process): MinMaxObserver(min_val=inf, max_val=-inf)\n",
              "            )\n",
              "          )\n",
              "          (1): Identity()\n",
              "          (2): Identity()\n",
              "        )\n",
              "        (1): ConvBNReLU(\n",
              "          (0): ConvReLU2d(\n",
              "            (0): Conv2d(\n",
              "              576, 576, kernel_size=(3, 3), stride=(2, 2), padding=(1, 1), groups=576\n",
              "              (activation_post_process): MinMaxObserver(min_val=inf, max_val=-inf)\n",
              "            )\n",
              "            (1): ReLU(\n",
              "              (activation_post_process): MinMaxObserver(min_val=inf, max_val=-inf)\n",
              "            )\n",
              "          )\n",
              "          (1): Identity()\n",
              "          (2): Identity()\n",
              "        )\n",
              "        (2): Conv2d(\n",
              "          576, 160, kernel_size=(1, 1), stride=(1, 1)\n",
              "          (activation_post_process): MinMaxObserver(min_val=inf, max_val=-inf)\n",
              "        )\n",
              "        (3): Identity()\n",
              "      )\n",
              "      (skip_add): FloatFunctional(\n",
              "        (activation_post_process): MinMaxObserver(min_val=inf, max_val=-inf)\n",
              "      )\n",
              "    )\n",
              "    (15): InvertedResidual(\n",
              "      (conv): Sequential(\n",
              "        (0): ConvBNReLU(\n",
              "          (0): ConvReLU2d(\n",
              "            (0): Conv2d(\n",
              "              160, 960, kernel_size=(1, 1), stride=(1, 1)\n",
              "              (activation_post_process): MinMaxObserver(min_val=inf, max_val=-inf)\n",
              "            )\n",
              "            (1): ReLU(\n",
              "              (activation_post_process): MinMaxObserver(min_val=inf, max_val=-inf)\n",
              "            )\n",
              "          )\n",
              "          (1): Identity()\n",
              "          (2): Identity()\n",
              "        )\n",
              "        (1): ConvBNReLU(\n",
              "          (0): ConvReLU2d(\n",
              "            (0): Conv2d(\n",
              "              960, 960, kernel_size=(3, 3), stride=(1, 1), padding=(1, 1), groups=960\n",
              "              (activation_post_process): MinMaxObserver(min_val=inf, max_val=-inf)\n",
              "            )\n",
              "            (1): ReLU(\n",
              "              (activation_post_process): MinMaxObserver(min_val=inf, max_val=-inf)\n",
              "            )\n",
              "          )\n",
              "          (1): Identity()\n",
              "          (2): Identity()\n",
              "        )\n",
              "        (2): Conv2d(\n",
              "          960, 160, kernel_size=(1, 1), stride=(1, 1)\n",
              "          (activation_post_process): MinMaxObserver(min_val=inf, max_val=-inf)\n",
              "        )\n",
              "        (3): Identity()\n",
              "      )\n",
              "      (skip_add): FloatFunctional(\n",
              "        (activation_post_process): MinMaxObserver(min_val=inf, max_val=-inf)\n",
              "      )\n",
              "    )\n",
              "    (16): InvertedResidual(\n",
              "      (conv): Sequential(\n",
              "        (0): ConvBNReLU(\n",
              "          (0): ConvReLU2d(\n",
              "            (0): Conv2d(\n",
              "              160, 960, kernel_size=(1, 1), stride=(1, 1)\n",
              "              (activation_post_process): MinMaxObserver(min_val=inf, max_val=-inf)\n",
              "            )\n",
              "            (1): ReLU(\n",
              "              (activation_post_process): MinMaxObserver(min_val=inf, max_val=-inf)\n",
              "            )\n",
              "          )\n",
              "          (1): Identity()\n",
              "          (2): Identity()\n",
              "        )\n",
              "        (1): ConvBNReLU(\n",
              "          (0): ConvReLU2d(\n",
              "            (0): Conv2d(\n",
              "              960, 960, kernel_size=(3, 3), stride=(1, 1), padding=(1, 1), groups=960\n",
              "              (activation_post_process): MinMaxObserver(min_val=inf, max_val=-inf)\n",
              "            )\n",
              "            (1): ReLU(\n",
              "              (activation_post_process): MinMaxObserver(min_val=inf, max_val=-inf)\n",
              "            )\n",
              "          )\n",
              "          (1): Identity()\n",
              "          (2): Identity()\n",
              "        )\n",
              "        (2): Conv2d(\n",
              "          960, 160, kernel_size=(1, 1), stride=(1, 1)\n",
              "          (activation_post_process): MinMaxObserver(min_val=inf, max_val=-inf)\n",
              "        )\n",
              "        (3): Identity()\n",
              "      )\n",
              "      (skip_add): FloatFunctional(\n",
              "        (activation_post_process): MinMaxObserver(min_val=inf, max_val=-inf)\n",
              "      )\n",
              "    )\n",
              "    (17): InvertedResidual(\n",
              "      (conv): Sequential(\n",
              "        (0): ConvBNReLU(\n",
              "          (0): ConvReLU2d(\n",
              "            (0): Conv2d(\n",
              "              160, 960, kernel_size=(1, 1), stride=(1, 1)\n",
              "              (activation_post_process): MinMaxObserver(min_val=inf, max_val=-inf)\n",
              "            )\n",
              "            (1): ReLU(\n",
              "              (activation_post_process): MinMaxObserver(min_val=inf, max_val=-inf)\n",
              "            )\n",
              "          )\n",
              "          (1): Identity()\n",
              "          (2): Identity()\n",
              "        )\n",
              "        (1): ConvBNReLU(\n",
              "          (0): ConvReLU2d(\n",
              "            (0): Conv2d(\n",
              "              960, 960, kernel_size=(3, 3), stride=(1, 1), padding=(1, 1), groups=960\n",
              "              (activation_post_process): MinMaxObserver(min_val=inf, max_val=-inf)\n",
              "            )\n",
              "            (1): ReLU(\n",
              "              (activation_post_process): MinMaxObserver(min_val=inf, max_val=-inf)\n",
              "            )\n",
              "          )\n",
              "          (1): Identity()\n",
              "          (2): Identity()\n",
              "        )\n",
              "        (2): Conv2d(\n",
              "          960, 320, kernel_size=(1, 1), stride=(1, 1)\n",
              "          (activation_post_process): MinMaxObserver(min_val=inf, max_val=-inf)\n",
              "        )\n",
              "        (3): Identity()\n",
              "      )\n",
              "      (skip_add): FloatFunctional(\n",
              "        (activation_post_process): MinMaxObserver(min_val=inf, max_val=-inf)\n",
              "      )\n",
              "    )\n",
              "    (18): ConvBNReLU(\n",
              "      (0): ConvReLU2d(\n",
              "        (0): Conv2d(\n",
              "          320, 1280, kernel_size=(1, 1), stride=(1, 1)\n",
              "          (activation_post_process): MinMaxObserver(min_val=inf, max_val=-inf)\n",
              "        )\n",
              "        (1): ReLU(\n",
              "          (activation_post_process): MinMaxObserver(min_val=inf, max_val=-inf)\n",
              "        )\n",
              "      )\n",
              "      (1): Identity()\n",
              "      (2): Identity()\n",
              "    )\n",
              "  )\n",
              "  (quant): QuantStub(\n",
              "    (activation_post_process): MinMaxObserver(min_val=inf, max_val=-inf)\n",
              "  )\n",
              "  (dequant): DeQuantStub()\n",
              "  (classifier): Sequential(\n",
              "    (0): Dropout(p=0.2, inplace=False)\n",
              "    (1): Linear(\n",
              "      in_features=1280, out_features=1000, bias=True\n",
              "      (activation_post_process): MinMaxObserver(min_val=inf, max_val=-inf)\n",
              "    )\n",
              "  )\n",
              ")"
            ]
          },
          "metadata": {
            "tags": []
          },
          "execution_count": 15
        }
      ]
    },
    {
      "cell_type": "markdown",
      "metadata": {
        "id": "ukHNOdGrIY01"
      },
      "source": [
        "After loading the model we need to calibrate it. After that we can convert it to the quantized model."
      ]
    },
    {
      "cell_type": "code",
      "metadata": {
        "id": "bIb8o7csIXqU",
        "outputId": "2a61bda9-6a65-4297-8ce3-e373a860950f",
        "colab": {
          "base_uri": "https://localhost:8080/"
        }
      },
      "source": [
        "# Calibrate first\n",
        "print('Post Training Quantization Prepare: Inserting Observers')\n",
        "print('\\n Inverted Residual Block:After observer insertion \\n\\n', myModel.features[1].conv)\n",
        "\n",
        "# Calibrate with the training set\n",
        "evaluate(myModel, criterion, data_loader, neval_batches=num_calibration_batches)\n",
        "print('Post Training Quantization: Calibration done')\n",
        "\n",
        "# Convert to quantized model\n",
        "torch.quantization.convert(myModel, inplace=True)\n",
        "print('Post Training Quantization: Convert done')\n",
        "print('\\n Inverted Residual Block: After fusion and quantization, note fused modules: \\n\\n',myModel.features[1].conv)\n",
        "\n",
        "print(\"Size of model after quantization\")\n",
        "print_size_of_model(myModel)"
      ],
      "execution_count": 17,
      "outputs": [
        {
          "output_type": "stream",
          "text": [
            "Post Training Quantization Prepare: Inserting Observers\n",
            "\n",
            " Inverted Residual Block:After observer insertion \n",
            "\n",
            " Sequential(\n",
            "  (0): ConvBNReLU(\n",
            "    (0): ConvReLU2d(\n",
            "      (0): Conv2d(\n",
            "        32, 32, kernel_size=(3, 3), stride=(1, 1), padding=(1, 1), groups=32\n",
            "        (activation_post_process): MinMaxObserver(min_val=-8.931025505065918, max_val=19.25383949279785)\n",
            "      )\n",
            "      (1): ReLU(\n",
            "        (activation_post_process): MinMaxObserver(min_val=0.0, max_val=19.25383949279785)\n",
            "      )\n",
            "    )\n",
            "    (1): Identity()\n",
            "    (2): Identity()\n",
            "  )\n",
            "  (1): Conv2d(\n",
            "    32, 16, kernel_size=(1, 1), stride=(1, 1)\n",
            "    (activation_post_process): MinMaxObserver(min_val=-10.811223030090332, max_val=10.211030960083008)\n",
            "  )\n",
            "  (2): Identity()\n",
            ")\n",
            "..........Post Training Quantization: Calibration done\n",
            "Post Training Quantization: Convert done\n",
            "\n",
            " Inverted Residual Block: After fusion and quantization, note fused modules: \n",
            "\n",
            " Sequential(\n",
            "  (0): ConvBNReLU(\n",
            "    (0): QuantizedConvReLU2d(32, 32, kernel_size=(3, 3), stride=(1, 1), scale=0.1516050398349762, zero_point=0, padding=(1, 1), groups=32)\n",
            "    (1): Identity()\n",
            "    (2): Identity()\n",
            "  )\n",
            "  (1): QuantizedConv2d(32, 16, kernel_size=(1, 1), stride=(1, 1), scale=0.18933343887329102, zero_point=67)\n",
            "  (2): Identity()\n",
            ")\n",
            "Size of model after quantization\n",
            "Size (MB): 3.628887\n"
          ],
          "name": "stdout"
        },
        {
          "output_type": "stream",
          "text": [
            "/usr/local/lib/python3.6/dist-packages/torch/quantization/observer.py:243: UserWarning: must run observer before calling calculate_qparams.                                        Returning default scale and zero point \n",
            "  Returning default scale and zero point \"\n"
          ],
          "name": "stderr"
        }
      ]
    },
    {
      "cell_type": "markdown",
      "metadata": {
        "id": "vBcHsLRJI1G-"
      },
      "source": [
        "Finding the evaluation accuracy:"
      ]
    },
    {
      "cell_type": "code",
      "metadata": {
        "id": "KyPX1S9PImxc",
        "outputId": "51638483-69c8-4956-c240-51ff60b2e473",
        "colab": {
          "base_uri": "https://localhost:8080/"
        }
      },
      "source": [
        "top1, top5 = evaluate(myModel, criterion, data_loader_test, neval_batches=num_eval_batches)\n",
        "print('Evaluation accuracy on %d images, %2.2f'%(num_eval_batches * eval_batch_size, top1.avg))"
      ],
      "execution_count": 18,
      "outputs": [
        {
          "output_type": "stream",
          "text": [
            "..........Evaluation accuracy on 300 images, 65.33\n"
          ],
          "name": "stdout"
        }
      ]
    },
    {
      "cell_type": "markdown",
      "metadata": {
        "id": "3ySfg1q8JKLM"
      },
      "source": [
        "For this quantized model, we see a significantly lower accuracy of just ~65.33% on these same 300 images. Nevertheless, we did reduce the size of our model down to just under 3.628 MB, almost a 4x decrease.\n",
        "\n",
        "In addition, we can significantly improve on the accuracy simply by using a different quantization configuration. We repeat the same exercise with the recommended configuration for quantizing for x86 architectures. This configuration does the following:\n",
        "\n",
        " - Quantizes weights on a per-channel basis\n",
        " - Uses a histogram observer that collects a histogram of activations and then picks quantization parameters in an optimal manner."
      ]
    },
    {
      "cell_type": "code",
      "metadata": {
        "id": "Q57Du3aAI4PB",
        "outputId": "dfb8026f-df20-4425-977c-0ceb7083db75",
        "colab": {
          "base_uri": "https://localhost:8080/"
        }
      },
      "source": [
        "per_channel_quantized_model = load_model(saved_model_dir + float_model_file)\n",
        "per_channel_quantized_model.eval()\n",
        "per_channel_quantized_model.fuse_model()\n",
        "per_channel_quantized_model.qconfig = torch.quantization.get_default_qconfig('fbgemm')\n",
        "print(per_channel_quantized_model.qconfig)"
      ],
      "execution_count": 19,
      "outputs": [
        {
          "output_type": "stream",
          "text": [
            "QConfig(activation=functools.partial(<class 'torch.quantization.observer.HistogramObserver'>, reduce_range=True), weight=functools.partial(<class 'torch.quantization.observer.PerChannelMinMaxObserver'>, dtype=torch.qint8, qscheme=torch.per_channel_symmetric))\n"
          ],
          "name": "stdout"
        }
      ]
    },
    {
      "cell_type": "markdown",
      "metadata": {
        "id": "AZTVEP34JiPT"
      },
      "source": [
        "Now to calculate the new evaluation accuracy:"
      ]
    },
    {
      "cell_type": "code",
      "metadata": {
        "id": "-UidHTBeJhUb",
        "outputId": "6163ae20-3f48-4cc9-8bfa-ba98ad0d2ed7",
        "colab": {
          "base_uri": "https://localhost:8080/"
        }
      },
      "source": [
        "torch.quantization.prepare(per_channel_quantized_model, inplace=True)\n",
        "evaluate(per_channel_quantized_model,criterion, data_loader, num_calibration_batches)\n",
        "torch.quantization.convert(per_channel_quantized_model, inplace=True)\n",
        "\n",
        "top1, top5 = evaluate(per_channel_quantized_model, criterion, data_loader_test, neval_batches=num_eval_batches)\n",
        "print('Evaluation accuracy on %d images, %2.2f'%(num_eval_batches * eval_batch_size, top1.avg))\n",
        "torch.jit.save(torch.jit.script(per_channel_quantized_model), saved_model_dir + scripted_quantized_model_file)"
      ],
      "execution_count": 20,
      "outputs": [
        {
          "output_type": "stream",
          "text": [
            "/usr/local/lib/python3.6/dist-packages/torch/quantization/observer.py:121: UserWarning: Please use quant_min and quant_max to specify the range for observers.                     reduce_range will be deprecated in a future release of PyTorch.\n",
            "  reduce_range will be deprecated in a future release of PyTorch.\"\n"
          ],
          "name": "stderr"
        },
        {
          "output_type": "stream",
          "text": [
            ".........."
          ],
          "name": "stdout"
        },
        {
          "output_type": "stream",
          "text": [
            "/usr/local/lib/python3.6/dist-packages/torch/quantization/observer.py:990: UserWarning: must run observer before calling calculate_qparams.                                    Returning default scale and zero point \n",
            "  Returning default scale and zero point \"\n"
          ],
          "name": "stderr"
        },
        {
          "output_type": "stream",
          "text": [
            "..........Evaluation accuracy on 300 images, 73.33\n"
          ],
          "name": "stdout"
        }
      ]
    },
    {
      "cell_type": "markdown",
      "metadata": {
        "id": "u6DgnSZQKDiH"
      },
      "source": [
        "Changing just this quantization configuration method resulted in an increase of the accuracy to over 73%! Still, this is worse than the baseline of 77.67% achieved above. So lets try quantization-aware training."
      ]
    },
    {
      "cell_type": "markdown",
      "metadata": {
        "id": "f7V99Po3Kbx6"
      },
      "source": [
        "## Quantization-aware training\n",
        "\n",
        " Quantization-aware training (QAT) is the quantization method that typically results in the highest accuracy. With QAT, all weights and activations are “fake quantized” during both the forward and backward passes of training: that is, float values are rounded to mimic `int8` values, but all computations are still done with floating point numbers. Thus, all the weight adjustments during training are made while “aware” of the fact that the model will ultimately be quantized; after quantizing, therefore, this method will usually yield higher accuracy than either dynamic quantization or post-training static quantization.\n",
        "\n",
        "The overall workflow for actually performing QAT is very similar to before:\n",
        "\n",
        " - We can use the same model as before: there is no additional preparation needed for quantization-aware training.\n",
        " - We need to use a `qconfig` specifying what kind of fake-quantization is to be inserted after weights and activations, instead of specifying observers\n",
        "\n",
        " We first define a training function:\n"
      ]
    },
    {
      "cell_type": "code",
      "metadata": {
        "id": "BSdAdlLHJ2zh"
      },
      "source": [
        "def train_one_epoch(model, criterion, optimizer, data_loader, device, ntrain_batches):\n",
        "    model.train()\n",
        "    top1 = AverageMeter('Acc@1', ':6.2f')\n",
        "    top5 = AverageMeter('Acc@5', ':6.2f')\n",
        "    avgloss = AverageMeter('Loss', '1.5f')\n",
        "\n",
        "    cnt = 0\n",
        "    for image, target in data_loader:\n",
        "        start_time = time.time()\n",
        "        print('.', end = '')\n",
        "        cnt += 1\n",
        "        image, target = image.to(device), target.to(device)\n",
        "        output = model(image)\n",
        "        loss = criterion(output, target)\n",
        "        optimizer.zero_grad()\n",
        "        loss.backward()\n",
        "        optimizer.step()\n",
        "        acc1, acc5 = accuracy(output, target, topk=(1, 5))\n",
        "        top1.update(acc1[0], image.size(0))\n",
        "        top5.update(acc5[0], image.size(0))\n",
        "        avgloss.update(loss, image.size(0))\n",
        "        if cnt >= ntrain_batches:\n",
        "            print('Loss', avgloss.avg)\n",
        "\n",
        "            print('Training: * Acc@1 {top1.avg:.3f} Acc@5 {top5.avg:.3f}'\n",
        "                  .format(top1=top1, top5=top5))\n",
        "            return\n",
        "\n",
        "    print('Full imagenet train set:  * Acc@1 {top1.global_avg:.3f} Acc@5 {top5.global_avg:.3f}'\n",
        "          .format(top1=top1, top5=top5))\n",
        "    return"
      ],
      "execution_count": 21,
      "outputs": []
    },
    {
      "cell_type": "markdown",
      "metadata": {
        "id": "LkwFZt1FLMPt"
      },
      "source": [
        " We fuse modules as before:"
      ]
    },
    {
      "cell_type": "code",
      "metadata": {
        "id": "rUdYmVjHLLbm"
      },
      "source": [
        "qat_model = load_model(saved_model_dir + float_model_file)\n",
        "qat_model.fuse_model()\n",
        "\n",
        "optimizer = torch.optim.SGD(qat_model.parameters(), lr = 0.0001)\n",
        "qat_model.qconfig = torch.quantization.get_default_qat_qconfig('fbgemm')"
      ],
      "execution_count": 22,
      "outputs": []
    },
    {
      "cell_type": "markdown",
      "metadata": {
        "id": "xJ29hus2LQ-U"
      },
      "source": [
        "Finally, `prepare_qat` performs the \"fake quantization\", preparing the model for quantization-aware training:"
      ]
    },
    {
      "cell_type": "code",
      "metadata": {
        "id": "lOAPMwvxLQcO",
        "outputId": "d7283c63-52b0-4b0b-b2da-69d776f1b0dd",
        "colab": {
          "base_uri": "https://localhost:8080/"
        }
      },
      "source": [
        "torch.quantization.prepare_qat(qat_model, inplace=True)\n",
        "print('Inverted Residual Block: After preparation for QAT, note fake-quantization modules \\n',qat_model.features[1].conv)"
      ],
      "execution_count": 23,
      "outputs": [
        {
          "output_type": "stream",
          "text": [
            "Inverted Residual Block: After preparation for QAT, note fake-quantization modules \n",
            " Sequential(\n",
            "  (0): ConvBNReLU(\n",
            "    (0): ConvBnReLU2d(\n",
            "      32, 32, kernel_size=(3, 3), stride=(1, 1), padding=(1, 1), groups=32, bias=False\n",
            "      (bn): BatchNorm2d(32, eps=1e-05, momentum=0.1, affine=True, track_running_stats=True)\n",
            "      (weight_fake_quant): FakeQuantize(\n",
            "        fake_quant_enabled=tensor([1], dtype=torch.uint8), observer_enabled=tensor([1], dtype=torch.uint8),            quant_min=-128, quant_max=127, dtype=torch.qint8, qscheme=torch.per_channel_symmetric, ch_axis=0,         scale=tensor([1.]), zero_point=tensor([0])\n",
            "        (activation_post_process): MovingAveragePerChannelMinMaxObserver(min_val=tensor([]), max_val=tensor([]))\n",
            "      )\n",
            "      (activation_post_process): FakeQuantize(\n",
            "        fake_quant_enabled=tensor([1], dtype=torch.uint8), observer_enabled=tensor([1], dtype=torch.uint8),            quant_min=0, quant_max=255, dtype=torch.quint8, qscheme=torch.per_tensor_affine, ch_axis=-1,         scale=tensor([1.]), zero_point=tensor([0])\n",
            "        (activation_post_process): MovingAverageMinMaxObserver(min_val=inf, max_val=-inf)\n",
            "      )\n",
            "    )\n",
            "    (1): Identity()\n",
            "    (2): Identity()\n",
            "  )\n",
            "  (1): ConvBn2d(\n",
            "    32, 16, kernel_size=(1, 1), stride=(1, 1), bias=False\n",
            "    (bn): BatchNorm2d(16, eps=1e-05, momentum=0.1, affine=True, track_running_stats=True)\n",
            "    (weight_fake_quant): FakeQuantize(\n",
            "      fake_quant_enabled=tensor([1], dtype=torch.uint8), observer_enabled=tensor([1], dtype=torch.uint8),            quant_min=-128, quant_max=127, dtype=torch.qint8, qscheme=torch.per_channel_symmetric, ch_axis=0,         scale=tensor([1.]), zero_point=tensor([0])\n",
            "      (activation_post_process): MovingAveragePerChannelMinMaxObserver(min_val=tensor([]), max_val=tensor([]))\n",
            "    )\n",
            "    (activation_post_process): FakeQuantize(\n",
            "      fake_quant_enabled=tensor([1], dtype=torch.uint8), observer_enabled=tensor([1], dtype=torch.uint8),            quant_min=0, quant_max=255, dtype=torch.quint8, qscheme=torch.per_tensor_affine, ch_axis=-1,         scale=tensor([1.]), zero_point=tensor([0])\n",
            "      (activation_post_process): MovingAverageMinMaxObserver(min_val=inf, max_val=-inf)\n",
            "    )\n",
            "  )\n",
            "  (2): Identity()\n",
            ")\n"
          ],
          "name": "stdout"
        },
        {
          "output_type": "stream",
          "text": [
            "/usr/local/lib/python3.6/dist-packages/torch/quantization/observer.py:121: UserWarning: Please use quant_min and quant_max to specify the range for observers.                     reduce_range will be deprecated in a future release of PyTorch.\n",
            "  reduce_range will be deprecated in a future release of PyTorch.\"\n"
          ],
          "name": "stderr"
        }
      ]
    },
    {
      "cell_type": "markdown",
      "metadata": {
        "id": "2vBsTbqwLwMf"
      },
      "source": [
        "Training a quantized model with high accuracy requires accurate modeling of numerics at inference. For quantization aware training, therefore, we modify the training loop by:\n",
        "\n",
        " - Switch batch norm to use running mean and variance towards the end of training to better match inference numerics.\n",
        " - We also freeze the quantizer parameters (scale and zero-point) and fine tune the weights.\n"
      ]
    },
    {
      "cell_type": "code",
      "metadata": {
        "id": "NWYG-tAQLYsq",
        "outputId": "aa9fafbe-630c-4120-feae-32b0153cabad",
        "colab": {
          "base_uri": "https://localhost:8080/"
        }
      },
      "source": [
        "num_train_batches = 20\n",
        "\n",
        "# Train and check accuracy after each epoch\n",
        "for nepoch in range(8):\n",
        "    train_one_epoch(qat_model, criterion, optimizer, data_loader, torch.device('cpu'), num_train_batches)\n",
        "    if nepoch > 3:\n",
        "        # Freeze quantizer parameters\n",
        "        qat_model.apply(torch.quantization.disable_observer)\n",
        "    if nepoch > 2:\n",
        "        # Freeze batch norm mean and variance estimates\n",
        "        qat_model.apply(torch.nn.intrinsic.qat.freeze_bn_stats)\n",
        "\n",
        "    # Check the accuracy after each epoch\n",
        "    quantized_model = torch.quantization.convert(qat_model.eval(), inplace=False)\n",
        "    quantized_model.eval()\n",
        "    top1, top5 = evaluate(quantized_model,criterion, data_loader_test, neval_batches=num_eval_batches)\n",
        "    print('Epoch %d :Evaluation accuracy on %d images, %2.2f'%(nepoch, num_eval_batches * eval_batch_size, top1.avg))"
      ],
      "execution_count": 24,
      "outputs": [
        {
          "output_type": "stream",
          "text": [
            "....................Loss tensor(2.0560, grad_fn=<DivBackward0>)\n",
            "Training: * Acc@1 52.000 Acc@5 78.667\n"
          ],
          "name": "stdout"
        },
        {
          "output_type": "stream",
          "text": [
            "/usr/local/lib/python3.6/dist-packages/torch/quantization/observer.py:243: UserWarning: must run observer before calling calculate_qparams.                                        Returning default scale and zero point \n",
            "  Returning default scale and zero point \"\n"
          ],
          "name": "stderr"
        },
        {
          "output_type": "stream",
          "text": [
            "..........Epoch 0 :Evaluation accuracy on 300 images, 73.00\n",
            "....................Loss tensor(2.0693, grad_fn=<DivBackward0>)\n",
            "Training: * Acc@1 51.667 Acc@5 77.833\n",
            "..........Epoch 1 :Evaluation accuracy on 300 images, 74.67\n",
            "....................Loss tensor(2.0503, grad_fn=<DivBackward0>)\n",
            "Training: * Acc@1 53.833 Acc@5 78.667\n",
            "..........Epoch 2 :Evaluation accuracy on 300 images, 77.67\n",
            "....................Loss tensor(1.9547, grad_fn=<DivBackward0>)\n",
            "Training: * Acc@1 55.833 Acc@5 78.167\n",
            "..........Epoch 3 :Evaluation accuracy on 300 images, 77.67\n",
            "....................Loss tensor(1.9653, grad_fn=<DivBackward0>)\n",
            "Training: * Acc@1 54.333 Acc@5 79.333\n",
            "..........Epoch 4 :Evaluation accuracy on 300 images, 76.67\n",
            "....................Loss tensor(1.8908, grad_fn=<DivBackward0>)\n",
            "Training: * Acc@1 57.167 Acc@5 78.333\n",
            "..........Epoch 5 :Evaluation accuracy on 300 images, 75.67\n",
            "....................Loss tensor(1.7831, grad_fn=<DivBackward0>)\n",
            "Training: * Acc@1 57.333 Acc@5 80.667\n",
            "..........Epoch 6 :Evaluation accuracy on 300 images, 73.67\n",
            "....................Loss tensor(1.9261, grad_fn=<DivBackward0>)\n",
            "Training: * Acc@1 58.000 Acc@5 80.500\n",
            "..........Epoch 7 :Evaluation accuracy on 300 images, 77.00\n"
          ],
          "name": "stdout"
        }
      ]
    },
    {
      "cell_type": "markdown",
      "metadata": {
        "id": "DArWu8jcNB85"
      },
      "source": [
        " Here, we just perform quantization-aware training for a small number of epochs. Nevertheless, quantization-aware training yields an accuracy of over 71% on the entire imagenet dataset, which is close to the floating point accuracy of 71.9%.\n",
        "\n",
        "Some points to note about quantization-aware training:\n",
        "\n",
        "- QAT is a super-set of post training quant techniques that allows for more debugging. For example, we can analyze if the accuracy of the model is limited by weight or activation quantization.\n",
        "- We can also simulate the accuracy of a quantized model in floating point since we are using fake-quantization to model the numerics of actual quantized arithmetic.\n",
        "- We can mimic post training quantization easily too."
      ]
    },
    {
      "cell_type": "markdown",
      "metadata": {
        "id": "amDGXqlPNjOD"
      },
      "source": [
        "## Speedup from quantization\n",
        "\n",
        "Finally, let's confirm something we alluded to above: do our quantized models actually perform inference faster? Let's test:"
      ]
    },
    {
      "cell_type": "code",
      "metadata": {
        "id": "_vJO8HKrL9mX",
        "outputId": "0473d82a-625e-479f-cda7-6b18250b459a",
        "colab": {
          "base_uri": "https://localhost:8080/"
        }
      },
      "source": [
        "def run_benchmark(model_file, img_loader):\n",
        "    elapsed = 0\n",
        "    model = torch.jit.load(model_file)\n",
        "    model.eval()\n",
        "    num_batches = 5\n",
        "    # Run the scripted model on a few batches of images\n",
        "    for i, (images, target) in enumerate(img_loader):\n",
        "        if i < num_batches:\n",
        "            start = time.time()\n",
        "            output = model(images)\n",
        "            end = time.time()\n",
        "            elapsed = elapsed + (end-start)\n",
        "        else:\n",
        "            break\n",
        "    num_images = images.size()[0] * num_batches\n",
        "\n",
        "    print('Elapsed time: %3.0f ms' % (elapsed/num_images*1000))\n",
        "    return elapsed\n",
        "\n",
        "run_benchmark(saved_model_dir + scripted_float_model_file, data_loader_test)\n",
        "\n",
        "run_benchmark(saved_model_dir + scripted_quantized_model_file, data_loader_test)"
      ],
      "execution_count": 25,
      "outputs": [
        {
          "output_type": "stream",
          "text": [
            "Elapsed time:  46 ms\n",
            "Elapsed time:  21 ms\n"
          ],
          "name": "stdout"
        },
        {
          "output_type": "execute_result",
          "data": {
            "text/plain": [
              "3.0823466777801514"
            ]
          },
          "metadata": {
            "tags": []
          },
          "execution_count": 25
        }
      ]
    },
    {
      "cell_type": "markdown",
      "metadata": {
        "id": "6gG6J21QUYPV"
      },
      "source": [
        "The results above illustrate the typical 2-4x speedup we see for quantized models compared to floating point ones.\n",
        "\n",
        "Thus, in this tutorial, we showed two quantization methods - post-training static quantization, and quantization-aware training - describing what they do \"under the hood\" and how to use them in PyTorch.\n",
        "\n",
        "# References\n",
        "\n",
        "1.  [Pytorch Advanced Tutorials](https://github.com/pytorch/tutorials/tree/master/advanced_source)"
      ]
    }
  ]
}